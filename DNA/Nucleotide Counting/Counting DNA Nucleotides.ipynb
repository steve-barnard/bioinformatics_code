{
 "cells": [
  {
   "cell_type": "code",
   "execution_count": 1,
   "metadata": {},
   "outputs": [
    {
     "name": "stdout",
     "output_type": "stream",
     "text": [
      "202 222 209 200\n"
     ]
    }
   ],
   "source": [
    "with open('rosalind_dna.txt', 'r') as f:\n",
    "    seq = f.read().rstrip('\\n')\n",
    "\n",
    "nuc = {\n",
    "    'A': 0,\n",
    "    'T': 0,\n",
    "    'G': 0,\n",
    "    'C':0\n",
    "}\n",
    "\n",
    "for i in seq:\n",
    "    nuc[i] += 1\n",
    "\n",
    "print (nuc['A'],nuc['C'],nuc['G'],nuc['T'])"
   ]
  },
  {
   "cell_type": "code",
   "execution_count": null,
   "metadata": {},
   "outputs": [],
   "source": []
  }
 ],
 "metadata": {
  "kernelspec": {
   "display_name": "Python 3",
   "language": "python",
   "name": "python3"
  },
  "language_info": {
   "codemirror_mode": {
    "name": "ipython",
    "version": 3
   },
   "file_extension": ".py",
   "mimetype": "text/x-python",
   "name": "python",
   "nbconvert_exporter": "python",
   "pygments_lexer": "ipython3",
   "version": "3.7.1"
  }
 },
 "nbformat": 4,
 "nbformat_minor": 2
}
