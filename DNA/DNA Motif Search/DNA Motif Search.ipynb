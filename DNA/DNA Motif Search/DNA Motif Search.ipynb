{
 "cells": [
  {
   "cell_type": "markdown",
   "metadata": {},
   "source": [
    "Finding the same interval of DNA in the genomes of two different organisms (often taken from different species) is highly suggestive that the interval has the same function in both organisms.\n",
    "\n",
    "We define a motif as such a commonly shared interval of DNA. A common task in molecular biology is to search an organism's genome for a known motif.\n",
    "\n",
    "The situation is complicated by the fact that genomes are riddled with intervals of DNA that occur multiple times (possibly with slight modifications), called repeats. These repeats occur far more often than would be dictated by random chance, indicating that genomes are anything but random and in fact illustrate that the language of DNA must be very powerful (compare with the frequent reuse of common words in any human language).\n",
    "\n",
    "The most common repeat in humans is the Alu repeat, which is approximately 300 bp long and recurs around a million times throughout every human genome (see Figure 1). However, Alu has not been found to serve a positive purpose, and appears in fact to be parasitic: when a new Alu repeat is inserted into a genome, it frequently causes genetic disorders."
   ]
  },
  {
   "cell_type": "markdown",
   "metadata": {},
   "source": [
    "<img src='http://rosalind.info/media/problems/subs/alu.jpg' />"
   ]
  },
  {
   "cell_type": "code",
   "execution_count": 12,
   "metadata": {},
   "outputs": [],
   "source": [
    "with open('DNAMotifTest.txt', 'r') as f:\n",
    "    seq, motif = [i.rstrip('\\n') for i in f.readlines()]"
   ]
  },
  {
   "cell_type": "code",
   "execution_count": 13,
   "metadata": {},
   "outputs": [],
   "source": [
    "# seq = 'GATATATGCATATACTT'\n",
    "# motif = 'ATAT'"
   ]
  },
  {
   "cell_type": "code",
   "execution_count": 14,
   "metadata": {},
   "outputs": [],
   "source": [
    "def findMotif(seq, motif):\n",
    "    '''Takes a DNA seq and a DNA motif and returns locations of the motif in the DNA seq indexed at 1'''\n",
    "    len_motif = len(motif)\n",
    "    len_seq = len(seq)\n",
    "    motif_locs = []\n",
    "    if len_motif > len_seq:\n",
    "        raise ValueError(\"motif be smaller than the seq\")\n",
    "    else:\n",
    "        for i in range(len_seq - len_motif):\n",
    "            if seq[i:i+len_motif] == motif:\n",
    "                motif_locs.append(i+1)\n",
    "            else:\n",
    "                pass\n",
    "    return motif_locs"
   ]
  },
  {
   "cell_type": "code",
   "execution_count": 15,
   "metadata": {},
   "outputs": [
    {
     "data": {
      "text/plain": [
       "[2, 4, 10]"
      ]
     },
     "execution_count": 15,
     "metadata": {},
     "output_type": "execute_result"
    }
   ],
   "source": [
    "findMotif(seq, motif)"
   ]
  },
  {
   "cell_type": "code",
   "execution_count": null,
   "metadata": {},
   "outputs": [],
   "source": []
  }
 ],
 "metadata": {
  "kernelspec": {
   "display_name": "Python 3",
   "language": "python",
   "name": "python3"
  },
  "language_info": {
   "codemirror_mode": {
    "name": "ipython",
    "version": 3
   },
   "file_extension": ".py",
   "mimetype": "text/x-python",
   "name": "python",
   "nbconvert_exporter": "python",
   "pygments_lexer": "ipython3",
   "version": "3.7.1"
  }
 },
 "nbformat": 4,
 "nbformat_minor": 2
}
