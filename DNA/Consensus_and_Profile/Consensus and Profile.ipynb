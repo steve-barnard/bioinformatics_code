{
 "cells": [
  {
   "cell_type": "code",
   "execution_count": 1,
   "metadata": {
    "scrolled": true
   },
   "outputs": [],
   "source": [
    "def def_space(x):\n",
    "    count = 0\n",
    "    for i in range(1,len(x)):\n",
    "        if x[i][0] != '>':\n",
    "            count += 1\n",
    "        else:\n",
    "            return count"
   ]
  },
  {
   "cell_type": "code",
   "execution_count": 2,
   "metadata": {},
   "outputs": [],
   "source": [
    "def create_blank(n):\n",
    "    blank = []\n",
    "    while len(blank) < n:\n",
    "        blank.append(0)\n",
    "    return blank"
   ]
  },
  {
   "cell_type": "code",
   "execution_count": 3,
   "metadata": {},
   "outputs": [],
   "source": [
    "DNA_list =[]\n",
    "\n",
    "with open('test.txt', 'r') as f:\n",
    "    data = f.readlines()\n",
    "    spacing = def_space(data)\n",
    "    for i in range(len(data)):\n",
    "        if '>' in data[i] and spacing > 0:\n",
    "            DNA_list.append(data[i+1:i+spacing+1])\n",
    "        \n",
    "    "
   ]
  },
  {
   "cell_type": "code",
   "execution_count": 4,
   "metadata": {},
   "outputs": [],
   "source": [
    "mergified_list = []\n",
    "for e in range(len(DNA_list)):\n",
    "    new_seq = ''\n",
    "    for i in DNA_list[e]:\n",
    "        new_seq += i.strip('\\n')\n",
    "    mergified_list.append(new_seq)"
   ]
  },
  {
   "cell_type": "code",
   "execution_count": 5,
   "metadata": {},
   "outputs": [
    {
     "data": {
      "text/plain": [
       "True"
      ]
     },
     "execution_count": 5,
     "metadata": {},
     "output_type": "execute_result"
    }
   ],
   "source": [
    "len(mergified_list) == len(DNA_list)"
   ]
  },
  {
   "cell_type": "code",
   "execution_count": 9,
   "metadata": {},
   "outputs": [],
   "source": [
    "cons_dict = {'A': [], 'C': [], 'G': [], 'T': []}"
   ]
  },
  {
   "cell_type": "code",
   "execution_count": 10,
   "metadata": {},
   "outputs": [],
   "source": [
    "for k,v in cons_dict.items():\n",
    "    cons_dict[k] = create_blank(len(mergified_list[0]))"
   ]
  },
  {
   "cell_type": "code",
   "execution_count": 11,
   "metadata": {},
   "outputs": [],
   "source": [
    "for seq in mergified_list:\n",
    "    for i in range(len(seq)):\n",
    "        for k,v in cons_dict.items():\n",
    "            if seq[i] == k:\n",
    "                cons_dict[k][i] += 1"
   ]
  },
  {
   "cell_type": "code",
   "execution_count": 14,
   "metadata": {
    "scrolled": true
   },
   "outputs": [
    {
     "name": "stdout",
     "output_type": "stream",
     "text": [
      "GACTGTCCAATCTCTGTTCAATTTCTGTTTTTCGGACCGATATGAGGGATTCACAGGATGCTGGAATCACCTGCTGGCGGATCGTATTCTGTTGGCGCGGTCGCTGATGGTTCATTTTCTCCTTATTTATTACCCGTTTATAACCTTGCCGGTCTAACTCTTAGAAGAAGTCAGATGCGGAGTAATATAGATAGAGTGTTCTGTTATTGTGGCCTTCATATTAGTGGGTTGTAGTGTATCCGGGCCTATTACTGTGGCTCGTGATTACTTATCTGCCATAAGCATAGGGTTGAGGTTGTTGACGATCTGAGGGGGCCGTTATCGTTGCTGGCTCTACTATCCTCCGTGTTCATTTTAGACAAGGACTTGATCGTAGTGGCCGTGATGCCTCGCCATCGGTTCCGTTCGTCGTGTGAATATGGTTACGTATCCATGTAGCGCGGCTTTTCACCAACGAATGGCAAAGATTATCCCTGGTCTCGTTGTTTTAGTCCCGCAAGGTGGTTTGAGTGGCTGGGCACCAGATATCTCGGTTTCGCGTTTCAGCGGGGAGTCTGCTGTCATTTTTACGAGTGGGTTTTTAAGGTGAGCTTCAGGGATGTTGTAATTTTGACAGGAGAGTCACTGGAGTTATGCGTTTGGAGCTGTCATTTGGTGCTATTCTTTTTGTTTTTATGATGACGCCATTGCTAAGGTAGTTGAGATTCGCAGCTGTTTTCAATCGACTTTAATTGTGTCTATCTACTAAGCTCTAGCATGATACGGTGGTTATTTCTTGGGCGCTTGGTACGAGTCTTGTAGGGAGGTGATTACCTGTGGGCTCTCTTGTCTCTGGTTGGCATTTGTAAGCGCTTTGGTTTCTGCGCTAGCTGACGTGCCTGGCCTAATTCGGCTTATATTTCG (3, 'A') [(1, 'T'), (3, 'A'), (3, 'G'), (3, 'C')]\n"
     ]
    }
   ],
   "source": [
    "consensus = ''\n",
    "for i in range(len(mergified_list[0])):\n",
    "    comp = []\n",
    "    comp.append((cons_dict['T'][i], 'T'))\n",
    "    comp.append((cons_dict['A'][i], 'A'))\n",
    "    comp.append((cons_dict['G'][i], 'G'))\n",
    "    comp.append((cons_dict['C'][i], 'C'))\n",
    "    consensus += str(max(comp)[1])\n",
    "\n",
    "print(consensus, comp[1], comp)"
   ]
  },
  {
   "cell_type": "code",
   "execution_count": 15,
   "metadata": {},
   "outputs": [
    {
     "name": "stdout",
     "output_type": "stream",
     "text": [
      "GACTGTCCAATCTCTGTTCAATTTCTGTTTTTCGGACCGATATGAGGGATTCACAGGATGCTGGAATCACCTGCTGGCGGATCGTATTCTGTTGGCGCGGTCGCTGATGGTTCATTTTCTCCTTATTTATTACCCGTTTATAACCTTGCCGGTCTAACTCTTAGAAGAAGTCAGATGCGGAGTAATATAGATAGAGTGTTCTGTTATTGTGGCCTTCATATTAGTGGGTTGTAGTGTATCCGGGCCTATTACTGTGGCTCGTGATTACTTATCTGCCATAAGCATAGGGTTGAGGTTGTTGACGATCTGAGGGGGCCGTTATCGTTGCTGGCTCTACTATCCTCCGTGTTCATTTTAGACAAGGACTTGATCGTAGTGGCCGTGATGCCTCGCCATCGGTTCCGTTCGTCGTGTGAATATGGTTACGTATCCATGTAGCGCGGCTTTTCACCAACGAATGGCAAAGATTATCCCTGGTCTCGTTGTTTTAGTCCCGCAAGGTGGTTTGAGTGGCTGGGCACCAGATATCTCGGTTTCGCGTTTCAGCGGGGAGTCTGCTGTCATTTTTACGAGTGGGTTTTTAAGGTGAGCTTCAGGGATGTTGTAATTTTGACAGGAGAGTCACTGGAGTTATGCGTTTGGAGCTGTCATTTGGTGCTATTCTTTTTGTTTTTATGATGACGCCATTGCTAAGGTAGTTGAGATTCGCAGCTGTTTTCAATCGACTTTAATTGTGTCTATCTACTAAGCTCTAGCATGATACGGTGGTTATTTCTTGGGCGCTTGGTACGAGTCTTGTAGGGAGGTGATTACCTGTGGGCTCTCTTGTCTCTGGTTGGCATTTGTAAGCGCTTTGGTTTCTGCGCTAGCTGACGTGCCTGGCCTAATTCGGCTTATATTTCG\n",
      "A: 2 5 2 3 3 3 3 1 4 4 3 2 1 3 0 1 4 1 1 4 4 3 2 2 4 0 3 2 1 3 3 3 2 3 2 4 0 4 3 4 3 5 2 2 4 2 3 1 4 3 3 2 4 3 6 2 4 5 3 2 3 3 4 1 5 6 0 1 4 2 2 2 3 2 2 3 2 3 0 4 5 3 3 3 1 5 1 3 1 2 1 3 3 1 2 2 4 2 3 2 1 0 3 2 0 3 4 2 2 1 3 2 2 5 2 2 2 4 1 3 1 3 2 2 4 3 4 2 4 2 2 4 1 2 3 1 3 1 2 5 2 5 4 3 1 2 2 2 3 3 3 1 2 1 2 4 6 1 2 4 2 2 6 2 4 4 3 4 4 1 1 3 5 4 5 0 3 3 1 2 4 1 2 4 5 3 4 3 5 2 4 3 4 3 4 3 1 2 2 3 3 0 2 3 2 5 3 4 3 2 1 3 3 4 1 3 3 4 1 4 3 0 5 2 1 3 1 4 3 1 2 2 4 0 2 3 2 4 3 1 3 3 2 3 2 2 2 4 4 2 5 2 2 2 3 2 2 3 2 2 2 2 2 6 2 3 5 3 3 0 4 3 3 3 2 1 0 4 3 5 4 2 4 6 2 5 2 2 2 2 1 3 4 2 2 2 2 0 3 3 3 4 3 2 5 2 3 3 2 6 3 1 0 3 2 2 3 1 3 1 4 2 1 3 0 2 3 0 3 0 3 3 3 3 3 5 2 0 5 1 2 1 3 2 3 3 3 2 1 2 4 5 3 1 3 3 4 2 5 2 4 4 3 2 5 1 2 1 2 5 3 0 1 1 4 2 3 2 4 3 3 2 1 2 4 3 2 4 3 2 3 2 3 2 6 1 2 0 1 0 2 1 2 3 2 1 3 2 2 3 2 3 3 3 3 4 4 2 5 3 2 2 1 3 4 1 4 3 4 2 3 2 5 1 3 2 4 3 1 3 2 1 1 3 3 0 3 1 2 4 1 1 4 6 2 1 7 5 3 2 3 1 4 4 4 3 5 2 2 5 2 3 2 1 3 2 3 2 1 3 1 2 1 0 2 1 0 1 3 4 4 2 3 3 1 2 3 5 5 2 2 3 1 3 2 2 2 3 5 4 1 3 3 2 2 2 1 1 1 5 1 2 5 1 5 2 4 2 2 2 1 1 3 3 2 1 3 1 2 2 3 3 1 2 4 2 1 2 3 2 3 4 3 2 4 2 3 1 1 2 2 3 4 0 2 1 3 3 4 3 4 4 2 2 2 1 0 3 3 1 1 2 4 5 0 2 1 2 5 2 2 2 3 2 5 3 3 2 4 3 2 1 1 3 3 5 4 2 1 3 2 1 4 1 4 1 0 4 0 6 1 3 1 5 1 2 0 2 5 3 4 2 5 3 2 2 3 2 2 3 2 3 4 0 2 0 3 1 1 4 3 2 0 2 1 0 1 2 3 5 2 2 0 1 1 0 0 2 2 3 3 3 2 1 5 3 1 4 1 0 6 2 2 3 2 4 1 1 3 3 2 4 4 3 3 3 6 3 1 3 2 7 4 5 2 1 1 3 3 6 1 2 3 1 1 2 1 2 2 5 4 3 1 3 5 3 1 1 1 4 4 3 2 3 2 3 3 1 2 4 1 2 1 5 3 2 7 4 1 0 3 3 0 4 1 3 4 2 3 4 0 5 3 4 2 2 3 3 3 0 4 2 0 3 3 2 1 2 2 2 1 1 1 2 3 1 3 2 5 2 1 4 3 0 3 1 3 2 2 5 3 3 2 4 2 2 2 2 5 2 2 4 2 1 2 3 3 2 2 2 1 3 1 1 1 1 2 3 0 1 2 2 2 2 3 3 3 1 3 2 4 2 0 4 1 3 4 5 3 1 1 3 4 3 3 2 1 3 3 1 3 2 0 2 3 0 2 4 1 2 1 0 5 2 2 2 2 3 1 2 2 4 1 3 2 4 5 2 2 3 3 3 4 2 3 6 3 4 3 3 3 0 3\n",
      "C: 0 1 4 2 2 2 4 4 3 2 2 4 2 4 3 1 0 2 5 3 1 0 2 3 4 2 2 3 2 1 3 2 5 0 1 2 5 4 2 2 3 3 2 2 2 2 2 1 1 1 1 4 2 4 2 1 1 1 2 2 4 0 1 2 1 2 3 6 2 4 4 2 1 4 3 2 2 5 1 0 1 2 4 3 4 1 3 2 5 0 2 1 2 3 3 4 0 4 2 1 1 5 2 4 3 2 3 2 3 3 1 2 4 2 2 3 4 2 5 3 6 5 2 2 2 1 0 1 2 3 2 1 5 4 4 3 1 4 2 2 0 2 1 4 6 1 2 2 3 5 0 3 3 4 4 3 2 5 3 4 3 2 1 1 3 2 1 2 2 1 3 3 2 1 1 2 3 4 4 1 3 3 2 1 2 3 2 2 2 1 2 1 2 2 2 2 1 1 3 1 5 1 3 1 3 2 3 1 2 2 2 2 3 4 4 0 4 1 1 3 2 2 0 3 3 3 2 1 3 1 3 3 2 3 3 0 2 3 1 5 3 2 1 3 5 4 2 2 1 2 2 6 2 2 2 3 1 3 3 4 2 3 2 1 1 2 1 4 1 1 3 3 5 1 1 6 4 1 2 3 2 3 4 3 2 2 3 4 3 3 1 3 3 3 3 2 2 1 2 2 2 2 4 3 2 0 4 1 3 2 3 3 4 2 3 4 3 2 2 2 3 3 6 3 3 2 2 6 2 1 1 5 2 4 1 1 5 2 1 3 5 6 2 5 4 1 2 1 2 1 4 3 0 3 0 3 2 3 3 5 2 2 1 1 0 5 2 3 3 3 2 5 2 1 1 2 2 3 1 4 5 2 3 2 3 2 1 4 4 2 4 3 3 5 3 2 4 3 2 3 2 4 4 3 2 4 5 1 3 3 3 3 2 1 1 1 2 2 0 2 3 3 1 3 2 5 2 1 3 3 4 4 3 2 2 3 1 3 5 3 4 2 2 4 3 3 1 1 4 0 5 4 2 1 5 3 0 2 2 1 0 4 1 1 1 2 4 3 3 2 2 3 6 5 1 3 0 3 5 1 4 3 2 1 3 2 3 3 2 2 1 0 4 4 5 2 3 3 1 3 0 1 0 2 0 3 2 1 2 2 3 2 1 5 2 2 2 1 5 2 5 4 1 2 2 2 3 2 4 1 5 3 2 2 3 2 4 2 4 2 3 1 3 4 1 3 6 3 1 3 2 2 2 2 4 2 2 4 3 3 3 4 2 2 3 3 2 2 2 3 2 0 1 1 3 2 3 1 1 2 1 4 1 4 4 3 2 3 2 3 4 1 3 4 2 2 2 1 3 1 1 3 1 1 2 4 3 4 1 2 2 3 3 5 1 3 2 1 1 2 3 3 6 1 4 4 0 3 2 2 1 2 2 2 3 4 3 2 2 3 3 1 3 3 4 4 2 4 5 1 1 2 4 2 3 1 0 4 1 0 2 3 6 2 3 3 2 1 2 2 0 1 1 3 1 3 2 2 3 3 2 5 2 4 4 3 3 4 1 4 1 1 2 3 0 2 1 2 3 1 0 2 2 1 2 1 4 2 4 0 1 4 2 2 3 3 3 3 4 0 3 0 7 3 1 4 2 1 1 2 2 0 2 1 3 0 3 5 1 2 1 6 1 2 3 1 0 3 3 4 2 4 2 2 4 4 1 2 3 2 3 0 4 0 3 2 2 2 2 4 3 2 1 2 3 1 2 2 3 1 4 3 5 1 2 3 0 2 2 4 4 1 2 1 4 2 1 3 2 2 2 0 3 3 4 3 3 3 3 3 3 2 5 4 2 2 0 2 1 3 4 2 4 1 4 1 2 3 2 5 1 5 0 1 2 1 1 3 1 5 3 1 3 0 4 2 2 3 3 6 2 4 0 1 3 1 2 1 1 3 5 3 3 4 1 5 2 2 2 4 4 3 2 4 3 2 3 4 4 3 3 1 5 3 3 3 1 3 1 4 1 3 5 3 3 1 1 2 2 2 1 5 3\n",
      "G: 5 2 3 2 4 0 1 3 2 2 2 3 2 2 2 5 2 2 2 0 2 3 3 1 2 2 4 2 3 1 1 0 0 5 4 2 3 2 4 1 0 0 2 4 1 4 3 6 2 3 3 2 3 2 2 5 4 2 2 5 0 2 4 4 2 1 2 1 2 2 1 3 6 3 2 3 4 0 6 4 2 2 0 3 1 2 2 2 3 4 5 2 2 4 3 2 4 1 3 5 4 3 3 1 3 3 1 3 4 4 1 3 2 3 2 2 0 0 1 1 1 0 2 2 2 2 2 3 2 1 3 3 1 3 2 5 2 1 0 2 3 3 2 1 1 2 1 4 2 1 5 5 2 2 0 3 0 0 1 0 1 3 2 4 1 2 4 2 2 6 3 2 2 4 1 4 4 2 4 4 1 4 1 2 1 0 2 2 1 4 3 0 2 3 3 3 1 4 1 2 1 4 3 3 2 2 1 1 3 2 4 5 2 0 1 1 1 3 4 2 2 3 3 3 1 4 5 4 0 4 3 1 3 4 0 4 3 2 2 2 2 3 5 3 2 1 2 2 1 3 1 1 1 4 2 3 4 2 2 2 5 2 4 1 2 2 3 2 3 4 1 1 0 3 5 1 3 3 2 0 1 3 1 0 1 1 3 4 3 1 2 3 1 3 3 2 2 7 1 2 3 3 1 3 2 3 2 1 3 1 3 4 5 3 4 3 2 4 2 3 2 2 1 3 2 3 4 0 1 6 5 2 2 0 2 1 1 3 1 3 0 2 2 2 2 4 2 4 3 3 1 1 3 3 2 1 3 5 1 0 2 2 4 4 3 3 3 2 4 2 2 2 4 4 3 4 2 3 5 1 0 4 1 4 0 2 4 1 2 2 1 4 2 1 1 3 1 5 4 3 1 3 2 3 2 1 1 5 2 2 3 1 3 2 4 3 2 2 3 2 4 4 2 1 1 0 4 2 1 2 3 3 1 3 4 2 3 3 2 3 2 5 4 1 1 3 3 3 2 3 3 3 1 1 3 4 2 2 1 4 5 2 2 2 3 3 1 2 2 2 1 2 0 4 3 3 4 2 1 0 2 3 2 3 3 1 2 3 2 3 4 3 2 1 0 5 2 2 2 3 5 3 6 3 1 0 1 4 2 4 2 3 4 0 2 5 4 6 3 1 2 1 1 5 0 3 3 3 1 3 0 4 3 2 1 3 1 5 2 5 0 3 3 3 2 3 2 3 4 3 3 1 3 3 1 3 3 2 3 3 1 1 3 4 2 1 2 2 1 2 4 3 5 3 4 4 5 3 1 3 2 0 2 1 4 3 2 4 1 3 2 2 1 2 3 3 3 4 1 2 6 3 4 4 2 1 0 0 3 2 2 4 1 0 2 5 6 3 5 1 4 1 1 2 3 0 6 3 1 5 1 1 1 2 5 3 3 1 2 1 3 5 1 7 1 2 3 1 2 2 3 3 2 5 4 0 6 3 3 2 2 2 3 2 1 3 2 3 4 1 3 1 3 2 1 1 4 2 2 4 2 2 4 0 2 0 3 1 4 1 3 2 2 3 4 2 2 3 3 2 5 1 4 0 3 4 3 4 2 2 7 2 1 5 3 2 3 2 1 3 1 3 2 4 1 3 3 4 4 2 3 3 2 4 1 6 1 2 3 2 4 0 4 2 2 2 1 2 5 3 2 3 3 2 5 2 3 3 3 3 2 4 0 4 3 3 3 5 2 2 1 3 3 2 2 2 3 4 5 4 3 5 1 3 1 4 5 2 3 1 4 3 3 4 3 2 2 3 3 0 3 5 3 2 4 4 1 3 1 2 2 3 2 2 0 3 3 5 4 3 2 2 2 4 2 4 0 3 4 4 2 1 4 5 3 2 3 4 4 2 1 3 3 0 5 2 1 2 3 3 5 1 1 2 1 4 5 3 2 2 2 1 4 2 5 3 1 3 6 2 0 4 1 2 3 2 3 3 3 2 4 4 1 2 2 1 2 2 3 2 4 3 0 2 0 1 3 1 2 1 1 2 3\n",
      "T: 3 2 1 3 1 5 2 2 1 2 3 1 5 1 5 3 4 5 2 3 3 4 3 4 0 6 1 3 4 5 3 5 3 2 3 2 2 0 1 3 4 2 4 2 3 2 2 2 3 3 3 2 1 1 0 2 1 2 3 1 3 5 1 3 2 1 5 2 2 2 3 3 0 1 3 2 2 2 3 2 2 3 3 1 4 2 4 3 1 4 2 4 3 2 2 2 2 3 2 2 4 2 2 3 4 2 2 3 1 2 5 3 2 0 4 3 4 4 3 3 2 2 4 4 2 4 4 4 2 4 3 2 3 1 1 1 4 4 6 1 5 0 3 2 2 5 5 2 2 1 2 1 3 3 4 0 2 4 4 2 4 3 1 3 2 2 2 2 2 2 3 2 1 1 3 4 0 1 1 3 2 2 5 3 2 4 2 3 2 3 1 6 2 2 1 2 7 3 4 4 1 5 2 3 3 1 3 4 2 4 3 0 2 2 4 6 2 2 4 1 3 5 2 2 5 0 2 1 4 4 2 4 1 3 5 3 3 1 4 2 2 2 2 1 1 3 4 2 4 3 2 1 5 2 3 2 3 2 3 2 1 3 2 2 5 3 1 1 3 5 2 3 2 3 2 2 3 2 3 2 3 2 1 1 5 2 2 0 2 4 6 1 2 2 2 4 4 2 4 3 2 1 2 2 1 5 1 5 2 1 1 2 1 2 1 1 2 3 3 4 1 3 2 1 5 3 1 4 4 3 1 0 3 3 4 3 2 5 3 3 3 1 3 1 1 2 3 3 4 4 1 1 4 3 5 3 1 0 1 3 2 2 2 3 2 1 3 4 1 0 3 3 3 4 2 2 3 2 0 2 2 2 5 2 3 3 3 1 1 4 2 1 2 2 0 4 3 2 3 4 5 2 2 1 4 4 1 2 3 2 2 3 2 4 2 2 2 4 2 3 1 1 6 3 3 4 0 4 2 3 0 1 1 4 1 3 2 1 2 1 2 2 3 2 3 4 3 5 2 3 1 2 3 2 0 2 1 1 4 3 2 3 3 3 2 2 0 3 3 1 5 2 2 0 3 2 3 3 3 6 3 2 5 6 2 6 5 3 3 1 1 5 1 2 4 1 2 0 2 2 3 3 3 2 7 5 5 2 1 0 4 2 2 3 4 1 3 2 1 2 2 3 3 2 3 3 0 3 3 4 4 2 2 3 4 4 2 2 2 1 4 3 3 1 3 2 1 2 2 2 2 3 2 3 1 3 2 3 3 2 4 2 1 4 3 5 3 3 3 2 0 3 2 4 1 3 2 3 5 4 6 4 3 0 2 2 5 1 2 2 2 5 3 2 0 2 2 3 2 4 1 3 4 2 3 0 3 4 5 3 4 2 2 4 3 1 2 2 4 1 2 3 2 2 2 4 4 2 2 0 4 5 2 3 0 1 1 5 4 3 2 1 2 0 3 4 2 4 2 3 3 3 4 1 2 9 3 1 3 3 4 3 1 5 5 4 6 4 2 4 4 5 4 4 3 3 3 2 4 3 0 1 2 3 2 3 3 4 2 2 4 3 2 1 3 3 1 2 3 4 3 0 0 4 3 4 2 1 1 2 1 2 4 2 3 3 3 3 3 2 2 4 0 0 3 0 4 4 4 2 1 4 4 2 4 1 3 2 4 2 4 2 4 1 2 5 2 1 1 3 3 0 5 2 0 1 2 3 1 1 5 1 3 2 2 3 2 0 3 4 2 3 6 3 2 5 4 2 0 3 2 1 3 4 4 2 2 4 0 3 1 2 2 5 0 5 4 2 3 3 2 2 2 1 0 1 4 2 1 3 3 1 1 3 6 2 4 1 3 2 3 3 3 4 3 4 6 1 4 0 5 2 4 2 2 4 3 2 2 1 2 4 4 6 0 3 3 0 1 0 2 2 5 4 3 3 2 3 4 4 0 4 3 2 1 2 5 1 1 2 5 3 2 2 2 4 2 0 2 3 1 1 3 2 3 2 2 3 4 1 2 1 1 3 4 2 3 3 3 4 5 3 1\n"
     ]
    }
   ],
   "source": [
    "print(consensus)\n",
    "for k,v in cons_dict.items():\n",
    "    if k != 'T':\n",
    "        print(k+':', str(v).strip('[').strip(']').replace(',','').rstrip(' '))\n",
    "    else:\n",
    "        print(k+':', str(v).strip('[').strip(']').replace(',','').rstrip(' '))"
   ]
  },
  {
   "cell_type": "code",
   "execution_count": 16,
   "metadata": {},
   "outputs": [
    {
     "data": {
      "text/plain": [
       "True"
      ]
     },
     "execution_count": 16,
     "metadata": {},
     "output_type": "execute_result"
    }
   ],
   "source": [
    "len(consensus) == len(mergified_list[0])"
   ]
  },
  {
   "cell_type": "code",
   "execution_count": 17,
   "metadata": {},
   "outputs": [
    {
     "name": "stdout",
     "output_type": "stream",
     "text": [
      "903 903 903\n",
      "903 903 903\n",
      "903 903 903\n",
      "903 903 903\n"
     ]
    }
   ],
   "source": [
    "for k,v in cons_dict.items():\n",
    "    print(len(v), len(consensus), len(mergified_list[0]))"
   ]
  },
  {
   "cell_type": "code",
   "execution_count": 18,
   "metadata": {},
   "outputs": [
    {
     "data": {
      "text/plain": [
       "'GACTGTCCAATCTCTGTTCAATTTCTGTTTTTCGGACCGATATGAGGGATTCACAGGATGCTGGAATCACCTGCTGGCGGATCGTATTCTGTTGGCGCGGTCGCTGATGGTTCATTTTCTCCTTATTTATTACCCGTTTATAACCTTGCCGGTCTAACTCTTAGAAGAAGTCAGATGCGGAGTAATATAGATAGAGTGTTCTGTTATTGTGGCCTTCATATTAGTGGGTTGTAGTGTATCCGGGCCTATTACTGTGGCTCGTGATTACTTATCTGCCATAAGCATAGGGTTGAGGTTGTTGACGATCTGAGGGGGCCGTTATCGTTGCTGGCTCTACTATCCTCCGTGTTCATTTTAGACAAGGACTTGATCGTAGTGGCCGTGATGCCTCGCCATCGGTTCCGTTCGTCGTGTGAATATGGTTACGTATCCATGTAGCGCGGCTTTTCACCAACGAATGGCAAAGATTATCCCTGGTCTCGTTGTTTTAGTCCCGCAAGGTGGTTTGAGTGGCTGGGCACCAGATATCTCGGTTTCGCGTTTCAGCGGGGAGTCTGCTGTCATTTTTACGAGTGGGTTTTTAAGGTGAGCTTCAGGGATGTTGTAATTTTGACAGGAGAGTCACTGGAGTTATGCGTTTGGAGCTGTCATTTGGTGCTATTCTTTTTGTTTTTATGATGACGCCATTGCTAAGGTAGTTGAGATTCGCAGCTGTTTTCAATCGACTTTAATTGTGTCTATCTACTAAGCTCTAGCATGATACGGTGGTTATTTCTTGGGCGCTTGGTACGAGTCTTGTAGGGAGGTGATTACCTGTGGGCTCTCTTGTCTCTGGTTGGCATTTGTAAGCGCTTTGGTTTCTGCGCTAGCTGACGTGCCTGGCCTAATTCGGCTTATATTTCG'"
      ]
     },
     "execution_count": 18,
     "metadata": {},
     "output_type": "execute_result"
    }
   ],
   "source": [
    "consensus"
   ]
  }
 ],
 "metadata": {
  "kernelspec": {
   "display_name": "Python 3",
   "language": "python",
   "name": "python3"
  },
  "language_info": {
   "codemirror_mode": {
    "name": "ipython",
    "version": 3
   },
   "file_extension": ".py",
   "mimetype": "text/x-python",
   "name": "python",
   "nbconvert_exporter": "python",
   "pygments_lexer": "ipython3",
   "version": "3.7.1"
  }
 },
 "nbformat": 4,
 "nbformat_minor": 2
}
